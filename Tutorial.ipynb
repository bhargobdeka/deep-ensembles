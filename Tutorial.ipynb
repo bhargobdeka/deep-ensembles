{
 "cells": [
  {
   "cell_type": "markdown",
   "metadata": {
    "button": false,
    "new_sheet": false,
    "run_control": {
     "read_only": false
    }
   },
   "source": [
    "# A tutorial / PyTorch implementation of \"Simple and Replicable Approximations of \"Simple and Scaleable Predictive Uncertainty Estimation\" using Deep Ensembles\" \n"
   ]
  },
  {
   "cell_type": "markdown",
   "metadata": {
    "button": false,
    "new_sheet": false,
    "run_control": {
     "read_only": false
    }
   },
   "source": [
    "import torch\n",
    "import torch.nn as nn\n",
    "import torch.nn.functional as F\n",
    "import torch.optim as optim\n",
    "import numpy as np\n",
    "import matplotlib\n",
    "import matplotlib.pyplot as plt\n",
    "%matplotlib inline\n",
    "\n",
    "def plot_point_results(toy, outputs):\n",
    "    xs = np.linspace(-6,6,200)\n",
    "    ys = np.power(xs,3)\n",
    "    plt.plot(xs, outputs, color='g', label=\"Predictions\")\n",
    "    plt.scatter(toy[0],toy[1], color='r', label='Training Samples')\n",
    "    plt.legend(loc='best')\n",
    "    plt.xlabel(\"x\")\n",
    "    plt.ylabel(\"y\")\n",
    "    plt.title(\"Ground Truth and Point Estimates\")\n",
    "    plt.plot(xs,ys)\n",
    "    plt.show()\n",
    "\n",
    "def plot_results(toy, outputs, output_variances):\n",
    "    xs = np.linspace(-6,6,100)\n",
    "    ys = np.power(xs,3)\n",
    "    plt.scatter(toy[0],toy[1], color='r', label='Training Samples')\n",
    "    plt.fill_between(xs, outputs+output_variances, outputs-output_variances, alpha=.5, label=\"3 $\\sigma$ uncertainty envelope\")\n",
    "    plt.legend(loc='best')\n",
    "    plt.xlabel(\"x\")\n",
    "    plt.ylabel(\"y\")\n",
    "    plt.title(\"Ground Truth and Uncertainty Estimates\")\n",
    "    plt.plot(xs,ys)\n",
    "    plt.show()\n",
    "\n",
    "def plot_loss(loss):\n",
    "    plt.plot(np.arange(len(loss)), loss)\n",
    "    plt.show()"
   ]
  },
  {
   "cell_type": "markdown",
   "metadata": {
    "button": false,
    "new_sheet": false,
    "run_control": {
     "read_only": false
    }
   },
   "source": [
    "### Introduction"
   ]
  },
  {
   "cell_type": "markdown",
   "metadata": {
    "button": false,
    "new_sheet": false,
    "run_control": {
     "read_only": false
    }
   },
   "source": [
    "The main research question Lakshminarayanan et al. (2017) seek to answer is: How can we accurately quantify the uncertainty of predictions made by neural nets (NNs) without the computational complexity of fully Bayesian approaches? \n",
    "\n",
    "While deep neural nets are extremely powerful for supervised prediction tasks, they have traditionally been poor at quantifying uncertainty in their predictions. For tasks where the risks of inaccurate, overconfident predictions are acute (such as predicting terrorism or deciding whether a self-driving car should cross an intersection), ensuring neural nets can accurately quantify their uncertainty is essential. \n",
    "\n",
    "Prior to Lakshminaraynan et al. (2017), most uncertainty estimation for neural nets has been accomplished using Bayesian Neural Nets (BNNs), which is performed by setting priors over the weights and then performing posterior inference. However, BNNs are very hard to implement in practice, as exact Bayesian inference is computationally intractable and approximation techniques such as MCMC (even with Hamiltonian methods) are computationally expensive and slow to converge. \n",
    "\n",
    "Another method for estimating uncertainty with NNs, the most straightforward and intuitive approach, is to use ensembles of neural nets and use the empirical variance across predictions as an uncertainty estimate. Combining ensembles with Monte Carlo dropout (MC-dropout) has been proposed as well. This combination uses MC-dropout techniques for each net (which involves stochastically disabling nodes in each hidden layer) and then averaging predictions across nets in the ensemble. The idea of using empirical variance from ensembles motivated the authors' experiments.\n",
    "\n",
    "The main contribution of Lakshminarayanan et al. (2017)  is a novel technique for estimating the uncertainty of NN predictions that is more computationally efficient than BNNs and outperforms (or performs equivalently to) MC-dropout. This technique involves training NNs with two targets (mean and variance) rather than just a point-estimate of the mean (thus making the NN a “Probabilistic NN”), and using a proper scoring rule as the loss function rather than RMSE. A proper scoring rule can take many forms, but the basic idea is to measure the quality of predictive uncertainty. When using a proper scoring rule as the decision criterion, a successful model would generate accurate mean estimates with low variance values for new data points close to the training set’s feature space, and estimates (hopefully accurate) with high variance values for new data points far from the training set’s feature space, capturing that the model knows less about this new feature space.\n",
    "\n",
    "This notebook also investigates combining probabilistic NNs with two additional techniques i) adversarial training and ii) ensembles.\n",
    "\n",
    "The format of the tutorial will proceed as follows. First, we will generate a simple toy dataset and train a standard neural net on it to explain the necessity of uncertainty estimation. Then, we will see how to perform uncertainty estimation using i) simple ensembles trained to reduce MSE, using the empirical variance as uncertainty ii) a single neural net with the proper scoring rule iii) a single neural net with the proper scoring rule and adversarial training iv) an ensemble of neural nets with the proper scoring rule and adversarial training. Finally, we will see how to apply the method on the Boston Housing Dataset.\n"
   ]
  },
  {
   "cell_type": "markdown",
   "metadata": {
    "button": false,
    "new_sheet": false,
    "run_control": {
     "read_only": false
    }
   },
   "source": [
    "### Toy dataset\n"
   ]
  },
  {
   "cell_type": "markdown",
   "metadata": {
    "button": false,
    "new_sheet": false,
    "run_control": {
     "read_only": false
    }
   },
   "source": [
    "Following Hernandez-Lobato and Adams (2015) and Lakshminarayanan et al. (2017), we will setup the problem of estimating predictive variance and evaluate the performance of the proposed method using a one-dimensional toy regression dataset. This dataset consists of 20 examples sampled from $Y = X^3 + \\epsilon$, where $X \\sim Unif(-4,4)$ and $\\epsilon \\sim N(0, 9)$. \n"
   ]
  },
  {
   "cell_type": "code",
   "execution_count": 3,
   "metadata": {
    "button": false,
    "new_sheet": false,
    "run_control": {
     "read_only": false
    }
   },
   "outputs": [
    {
     "data": {
      "image/png": "[encoded data removed]",
      "text/plain": [
       "<Figure size 432x288 with 1 Axes>"
      ]
     },
     "metadata": {
      "needs_background": "light"
     },
     "output_type": "display_data"
    }
   ],
   "source": [
    "np.random.seed(42)\n",
    "\n",
    "def draw_examples(n):\n",
    "    x = np.random.uniform(-4,4, n)\n",
    "    eps = np.random.normal(0, 3, n)\n",
    "    y = np.power(x,3) + eps \n",
    "    return(x,y)\n",
    "\n",
    "toy_dataset = draw_examples(20)\n",
    "inputs, labels = toy_dataset\n",
    "\n",
    "xs = np.linspace(-4,4,200)\n",
    "ys = np.power(xs,3)\n",
    "plt.plot(xs,ys)\n",
    "plt.scatter(toy_dataset[0],toy_dataset[1], color='r', label='Training Samples')\n",
    "plt.legend(loc='best')\n",
    "plt.ylabel(\"y\")\n",
    "plt.xlabel(\"x\")\n",
    "plt.title(\"Toy Dataset\")\n",
    "plt.show()"
   ]
  },
  {
   "cell_type": "markdown",
   "metadata": {
    "button": false,
    "new_sheet": false,
    "run_control": {
     "read_only": false
    }
   },
   "source": [
    "This exercise is useful for two main reasons. First, since we know the underlying distribution that generated the toy dataset, we are able to easily gauge the accuracy of the predictions and  variance estimates. We would expect the variance estimates to be larger when predicting inputs from outside the scope of the training space. Second, the single dimensionality of this dataset enables us to easily visualize both the accuracy of the predictions and the uncertainty estimates generated. \n",
    "\n",
    "We follow the model architectures used in the 2 papers cited earlier very closely so that we are able to compare our graphs with those of these papers. For both the single neural net models and the Deep Ensemble models, we use:\n",
    "1. A single layer with 100 hidden units and a ReLU activation function\n",
    "2. ADAM optimizer with learning rate of 0.1\n",
    "3. 40 epochs for training\n",
    "4. 5 independently trained neural nets, when using ensembles\n"
   ]
  },
  {
   "cell_type": "markdown",
   "metadata": {
    "button": false,
    "new_sheet": false,
    "run_control": {
     "read_only": false
    }
   },
   "source": [
    "#### Single Neural Net\n"
   ]
  },
  {
   "cell_type": "markdown",
   "metadata": {
    "button": false,
    "new_sheet": false,
    "run_control": {
     "read_only": false
    }
   },
   "source": [
    "Below, we implement a single neural net with the architecture specified above to fit the toy dataset. We then graph the function $y = x^3$, the 20 training samples, and the predictions from the Neural Net between x = -6 to x = 6. \n"
   ]
  },
  {
   "cell_type": "code",
   "execution_count": 18,
   "metadata": {
    "button": false,
    "new_sheet": false,
    "run_control": {
     "read_only": false
    }
   },
   "outputs": [
    {
     "data": {
      "image/png": "[encoded data removed]",
      "text/plain": [
       "<Figure size 432x288 with 1 Axes>"
      ]
     },
     "metadata": {},
     "output_type": "display_data"
    }
   ],
   "source": [
    "# Setup\n",
    "class Net(nn.Module):\n",
    "    def __init__(self):\n",
    "        super(Net, self).__init__()\n",
    "        self.l1 = nn.Linear(1, 100)\n",
    "        self.l2 = nn.Linear(100, 1)\n",
    "\n",
    "    def forward(self, x):\n",
    "        x = F.relu(self.l1(x))\n",
    "        x = self.l2(x)\n",
    "        return x\n",
    "\n",
    "# Create single net with Adam Optimizer \n",
    "net = Net()\n",
    "criterion = nn.MSELoss()\n",
    "optimizer = optim.Adam(net.parameters(), lr=0.1)\n",
    "\n",
    "running_loss = []\n",
    "for epoch in range(40):\n",
    "    epoch_loss = 0\n",
    "    for x, y in zip(inputs, labels):\n",
    "        \n",
    "        x = torch.tensor([x], dtype = torch.float)\n",
    "        y = torch.tensor([y], dtype = torch.float)\n",
    "    \n",
    "        # zero the parameter gradients\n",
    "        optimizer.zero_grad()\n",
    "\n",
    "        # forward + backward + optimize\n",
    "        output = net(x)\n",
    "        loss = criterion(output, y)\n",
    "        loss.backward()\n",
    "        optimizer.step()\n",
    "\n",
    "        epoch_loss += loss.item()\n",
    "        \n",
    "    running_loss.append(epoch_loss/len(inputs))\n",
    "\n",
    "xs = np.linspace(-6,6,200)\n",
    "outputs = [net(torch.tensor([x])) for x in xs]\n",
    "outputs = np.hstack(torch.stack(outputs).detach().numpy())\n",
    "plot_point_results(toy_dataset, outputs)"
   ]
  },
  {
   "cell_type": "markdown",
   "metadata": {
    "button": false,
    "new_sheet": false,
    "run_control": {
     "read_only": false
    }
   },
   "source": [
    "There are 2 important takeaways from looking at this graph.  First, the model performs extremely well when predicting at values for which it has data. In this case, this is between points $x \\in [-4, 4]$. However, the model does much worse at the points it does not have data - between $x \\in [-6, -4) \\cup (4, 6]$. Second, the model fails to output any confidence interval/metric to ascertain how confident we are of any particular prediction. While in this case, we know what the underlying distribution is and can gauge easily how far off our predictions are from the true value on samples outside the training data, on real datasets we do not know this true value and will want uncertainty estimates on our predictions (functionally confidence intervals).\n"
   ]
  },
  {
   "cell_type": "markdown",
   "metadata": {
    "button": false,
    "new_sheet": false,
    "run_control": {
     "read_only": false
    }
   },
   "source": [
    "#### Ensembles of Neural Nets\n"
   ]
  },
  {
   "cell_type": "markdown",
   "metadata": {
    "button": false,
    "new_sheet": false,
    "run_control": {
     "read_only": false
    }
   },
   "source": [
    "Next, we perform the most basic method of uncertainty estimation, which involves training multiple neural nets independently and then estimating uncertainty by using the empirical variance of the estimates. More specifically, we train 5 neural nets on the toy dataset with the same architecture as above. Then, we combine the predictions as:\n",
    "\n",
    "$$ \\mu_*(\\mathbf{x}) = M^{-1} \\sum_m \\mu_{\\theta_m}(\\mathbf{x})$$\n",
    "$$ \\sigma_*^2(\\mathbf{x}) = M^{-1}\\sum_m(\\mu_{\\theta_m}(\\mathbf{x}) - \\overline{\\mu}_{\\theta_m}(\\mathbf{x}))^2$$\n",
    "\n",
    "As above, we graph the underlying curve and the training samples. We then overlay the predictions with a 3 standard deviation envelope, using the empirical variance. This 3 standard deviation envelope can be thought of as a confidence interval for our mean estimates.\n"
   ]
  },
  {
   "cell_type": "code",
   "execution_count": 26,
   "metadata": {
    "button": false,
    "new_sheet": false,
    "run_control": {
     "read_only": false
    }
   },
   "outputs": [
    {
     "data": {
      "image/png": "[encoded data removed]",
      "text/plain": [
       "<Figure size 432x288 with 1 Axes>"
      ]
     },
     "metadata": {},
     "output_type": "display_data"
    }
   ],
   "source": [
    "# Net Setup\n",
    "class Net(nn.Module):\n",
    "    def __init__(self):\n",
    "        super(Net, self).__init__()\n",
    "        self.l1 = nn.Linear(1, 100)\n",
    "        self.l2 = nn.Linear(100, 1)\n",
    "\n",
    "    def forward(self, x):\n",
    "        x = F.relu(self.l1(x))\n",
    "        x = self.l2(x)\n",
    "        return x\n",
    "    \n",
    "criterion = nn.MSELoss()\n",
    "\n",
    "# Create 5 nets with Adam optimizer\n",
    "n = 5\n",
    "nets_ops = []\n",
    "for i in range(n):\n",
    "    net = Net()\n",
    "    optimizer = optim.Adam(net.parameters(), lr=0.1)\n",
    "    nets_ops.append((net, optimizer))\n",
    "    \n",
    "# Train each net\n",
    "def train_model(net, optimizer):\n",
    "    running_loss = []\n",
    "    for epoch in range(40):\n",
    "        epoch_loss = 0\n",
    "        for x, y in zip(inputs, labels):\n",
    "\n",
    "            x = torch.tensor([x], dtype = torch.float)\n",
    "            y = torch.tensor([y], dtype = torch.float)\n",
    "\n",
    "            # zero the parameter gradients\n",
    "            optimizer.zero_grad()\n",
    "\n",
    "            # forward + backward + optimize\n",
    "            output = net(x)\n",
    "            loss = criterion(output, y)\n",
    "            loss.backward()\n",
    "            optimizer.step()\n",
    "\n",
    "            epoch_loss += loss.item()\n",
    "\n",
    "        running_loss.append(epoch_loss/len(inputs))\n",
    "        \n",
    "    xs = np.linspace(-4, 4, 100)\n",
    "    outputs = [net(torch.tensor([x])) for x in xs]\n",
    "    outputs = np.hstack(torch.stack(outputs).detach().numpy())\n",
    "    \n",
    "    return (running_loss, outputs)\n",
    "\n",
    "\n",
    "\n",
    "outputs = []\n",
    "for net, op in nets_ops:\n",
    "    loss, output = train_model(net, op)\n",
    "    outputs.append(output)\n",
    "    \n",
    "outputs = np.vstack(outputs)\n",
    "ys = np.mean(outputs, axis = 0)\n",
    "stds = np.std(outputs, axis = 0)*3\n",
    "\n",
    "plot_results(toy_dataset, ys, stds)"
   ]
  },
  {
   "cell_type": "markdown",
   "metadata": {
    "button": false,
    "new_sheet": false,
    "run_control": {
     "read_only": false
    }
   },
   "source": [
    "Interestingly, simple ensembles using empirical variance perform relatively poorly at predicting both the target means and uncertainty estimates. Not only do the predictions of y inaccurately follow the curve, but the 3 standard deviation confidence intervals do not follow the trend we expect them to. As mentioned earlier, we expect the intervals to get wider on unseen data around the edges of this graph (x values of -6 to -4 and 4 to 6) and narrower on x values in the training data (-4 to 4). This is notably not the case with narrow intervals in the left half of the graph, even where the predictions are far away from the true ys.\n"
   ]
  },
  {
   "cell_type": "markdown",
   "metadata": {
    "button": false,
    "new_sheet": false,
    "run_control": {
     "read_only": false
    }
   },
   "source": [
    "#### Single Neural Net + Proper Scoring Rule\n"
   ]
  },
  {
   "cell_type": "markdown",
   "metadata": {
    "button": false,
    "new_sheet": false,
    "run_control": {
     "read_only": false
    }
   },
   "source": [
    "We now train our data on the proper scoring rule, as proposed by the paper. While the standard neural net has a single output (the prediction) and uses a Mean Squared Error (MSE) criterion, this model will have two outputs in the final layer: the mean prediction and a variance estimate, making it a probabilistic neural net. The proper scoring rule used in the paper assumes the observation is a sample generated from a (heteroscedastic) Gaussian distribution, and it minimizes the Negative Log-Likelihood (NLL) criterion: \n",
    "$$ -logp_{\\theta}(y_n \\bigm| \\mathbf{x}_n) = \\frac{log(\\sigma^2_{\\theta}(\\mathbf{x}))}{2} + \\frac{(y - \\mu_{\\theta}(\\mathbf{x}))^2}{2\\sigma^2_{\\theta}(\\mathbf{x})}$$\n",
    "\n"
   ]
  },
  {
   "cell_type": "markdown",
   "metadata": {
    "button": false,
    "new_sheet": false,
    "run_control": {
     "read_only": false
    }
   },
   "source": [
    "This criterion forces our model to optimize for both the accuracy of its prediction and its uncertainty estimates. To understand how the function achieves this, consider the edge cases. If our prediction is completely accurate, $y =  \\mu_\\theta(\\mathbf{x})$, rendering the right term 0 and so this function will minimize the variance estimate, $\\sigma^2_{\\theta}$. If our prediction is very inaccurate, $|y - \\mu_\\theta(\\mathbf{x})| >> 0$, so the second term in the equation causes the loss criterion to make $\\sigma^2_{\\theta}$ larger. This optimization makes intuitive sense because we want to predict a low variance (conveying high confidence) when our prediction is accurate and predict a high variance (conveying low confidence) when our prediction is inaccurate.\n",
    "\n",
    "We use the same architecture as in the single neural net, but change our loss function to this  NLL proper scoring rule. To enforce the constraint that the variance output must be positive, we pass it through the Softplus function and add a minimum variance of $10^{-6}$, as was done in Lakshminarayan et al. (2017). We then train our model on the 20 training examples and graph the predicted target means with a 3 standard deviation envelope, using the predicted variances. We overlay this graph on the plot of $y = x^3$ and the training samples. \n"
   ]
  },
  {
   "cell_type": "code",
   "execution_count": 30,
   "metadata": {
    "button": false,
    "new_sheet": false,
    "run_control": {
     "read_only": false
    }
   },
   "outputs": [
    {
     "data": {
      "image/png": "[encoded data removed]",
      "text/plain": [
       "<Figure size 432x288 with 1 Axes>"
      ]
     },
     "metadata": {},
     "output_type": "display_data"
    }
   ],
   "source": [
    "# Net Setup\n",
    "class Net(nn.Module):\n",
    "    def __init__(self):\n",
    "        super(Net, self).__init__()\n",
    "        self.l1 = nn.Linear(1, 100)\n",
    "        self.l2 = nn.Linear(100, 2)\n",
    "\n",
    "    def forward(self, x):\n",
    "        x = F.relu(self.l1(x))\n",
    "        x = self.l2(x)\n",
    "        return x\n",
    "\n",
    "net = Net()\n",
    "optimizer = optim.Adam(net.parameters(), lr=0.1)\n",
    "\n",
    "# Proper scoring rule using negative log likelihood scoring rule\n",
    "nll_criterion = lambda mu, sigma, y: torch.log(sigma)/2 + ((y-mu)**2)/(2*sigma)\n",
    "sp = torch.nn.Softplus()\n",
    "\n",
    "\n",
    "running_loss = []\n",
    "for epoch in range(40):\n",
    "    epoch_loss = 0\n",
    "    for x, y in zip(inputs, labels):\n",
    "        \n",
    "        x = torch.tensor([x], dtype = torch.float)\n",
    "        y = torch.tensor([y], dtype = torch.float)\n",
    "    \n",
    "        # zero the parameter gradients\n",
    "        optimizer.zero_grad()\n",
    "\n",
    "        # forward + backward + optimize\n",
    "        output = net(x)\n",
    "        mu, sig = output[0], sp(output[1])+(10)**-6\n",
    "        loss = nll_criterion(mu, sig, y)\n",
    "        loss.backward()\n",
    "        optimizer.step()\n",
    "\n",
    "        epoch_loss += loss.item()\n",
    "        \n",
    "    running_loss.append(epoch_loss/len(inputs))\n",
    "\n",
    "xs = np.linspace(-6, 6, 100)\n",
    "mu_outputs = [net(torch.tensor([x]))[0] for x in xs]\n",
    "mu_outputs = np.hstack(torch.stack(mu_outputs).detach().numpy())\n",
    "sig_outputs = [net(torch.tensor([x]))[1] for x in xs]\n",
    "sig_outputs = np.sqrt(np.hstack(torch.stack(sig_outputs).detach().numpy()))*3\n",
    "plot_results(toy_dataset, mu_outputs, sig_outputs)\n"
   ]
  },
  {
   "cell_type": "markdown",
   "metadata": {
    "button": false,
    "new_sheet": false,
    "run_control": {
     "read_only": false
    }
   },
   "source": [
    "Comparing this graph to the one from the Ensemble method, we are able to see a significant improvement in uncertainty estimation using the proper scoring rule. As we would hope, the confidence interval of our estimates is much narrower at x values included in the training data (between -4 and 4), and much wider at x values not seen before (-6 to -4 and 4 to 6). While this is certainly an improvement, the difference in the the width of these intervals between seen and unseen x values is not as large as we might want it to be. \n"
   ]
  },
  {
   "cell_type": "markdown",
   "metadata": {
    "button": false,
    "new_sheet": false,
    "run_control": {
     "read_only": false
    }
   },
   "source": [
    "#### Single Neural Net + Proper Scoring Rule + Adversarial Training\n"
   ]
  },
  {
   "cell_type": "markdown",
   "metadata": {
    "button": false,
    "new_sheet": false,
    "run_control": {
     "read_only": false
    }
   },
   "source": [
    "Next, we tack on the method of *adversarial* training to our training process. Adversarial training involves modifying the training inputs slightly so as to be visually indistinguishable from the training examples but modified in such a way as to make the model worse at predicting their associated labels. Training using these adversarial examples makes the model more robust since it learns even more on points where it would perform badly. Additionally, adversarial training helps smooth the predictive distribution because it increases the likelihood of the model predicting the training value in an $\\epsilon$ region around the training point. Generating adversarial examples involves moving the inputs approximately in the direction of steepest ascent. \n",
    "\n",
    "In our particular case, we use the fast gradient sign method to create adversarial examples. This entails creating a new \n",
    "$$x’ = x + \\epsilon\\ \\text{sign}(\\nabla_x \\ell(\\theta, x,y))$$\n",
    "\n",
    "Where $\\epsilon = .01\\ range(x)$ and evaluating $range(x)$ as the range of the training data along each dimension. We then train the model on both $x$ and $x’$ as two separate data points. The performance of the model is below. It appears to improve performance slightly, but is not too significant. \n"
   ]
  },
  {
   "cell_type": "code",
   "execution_count": 31,
   "metadata": {
    "button": false,
    "new_sheet": false,
    "run_control": {
     "read_only": false
    }
   },
   "outputs": [
    {
     "data": {
      "image/png": "[encoded data removed]",
      "text/plain": [
       "<Figure size 432x288 with 1 Axes>"
      ]
     },
     "metadata": {},
     "output_type": "display_data"
    }
   ],
   "source": [
    "# Net Setup\n",
    "\n",
    "class Net(nn.Module):\n",
    "    def __init__(self):\n",
    "        super(Net, self).__init__()\n",
    "        self.l1 = nn.Linear(1, 100)\n",
    "        self.l2 = nn.Linear(100, 2)\n",
    "\n",
    "    def forward(self, x):\n",
    "        x = F.relu(self.l1(x))\n",
    "        x = self.l2(x)\n",
    "        return x\n",
    "\n",
    "net = Net()\n",
    "optimizer = optim.Adam(net.parameters(), lr=0.1)\n",
    "\n",
    "# Proper scoring rule using negative log likelihood scoring rule\n",
    "\n",
    "nll_criterion = lambda mu, sigma, y: torch.log(sigma)/2 + ((y-mu)**2)/(2*sigma)\n",
    "sp = torch.nn.Softplus()\n",
    "\n",
    "eps = .01*8\n",
    "running_loss = []\n",
    "for epoch in range(40):\n",
    "    epoch_loss = 0\n",
    "    for x, y in zip(inputs, labels):\n",
    "        \n",
    "        x = torch.tensor([x], dtype = torch.float, requires_grad=True)\n",
    "        y = torch.tensor([y], dtype = torch.float)\n",
    "    \n",
    "        # zero the parameter gradients\n",
    "        optimizer.zero_grad()\n",
    "\n",
    "        # forward + backward + optimize\n",
    "        output = net(x)\n",
    "        mu, sig = output[0], sp(output[1])+(10)**-6\n",
    "        loss = nll_criterion(mu, sig, y)\n",
    "        loss.backward(retain_graph=True)\n",
    "\n",
    "        # Calculate x' as described in paper\n",
    "        x_a = x + eps*(torch.sign(x.grad.data))\n",
    "        optimizer.zero_grad()\n",
    "        \n",
    "        output_a = net(x_a)\n",
    "        mu_a, sig_a = output_a[0], sp(output_a[1])+(10)**-6\n",
    "\n",
    "        # Compute loss as sum of l(x) + l(x')\n",
    "        loss = nll_criterion(mu, sig, y) + nll_criterion(mu_a, sig_a, y)\n",
    "        loss.backward()\n",
    "\n",
    "        optimizer.step()\n",
    "\n",
    "        epoch_loss += loss.item()\n",
    "        \n",
    "    running_loss.append(epoch_loss/len(inputs))\n",
    "\n",
    "xs = np.linspace(-6, 6, 100)\n",
    "mu_outputs = [net(torch.tensor([x]))[0] for x in xs]\n",
    "mu_outputs = np.hstack(torch.stack(mu_outputs).detach().numpy())\n",
    "sig_outputs = [net(torch.tensor([x]))[1] for x in xs]\n",
    "sig_outputs = np.sqrt(np.hstack(torch.stack(sig_outputs).detach().numpy()))*3\n",
    "plot_results(toy_dataset, mu_outputs, sig_outputs)"
   ]
  },
  {
   "cell_type": "markdown",
   "metadata": {
    "button": false,
    "new_sheet": false,
    "run_control": {
     "read_only": false
    }
   },
   "source": [
    "#### Ensemble + Proper Scoring Rule + Adversarial Training\n"
   ]
  },
  {
   "cell_type": "markdown",
   "metadata": {
    "button": false,
    "new_sheet": false,
    "run_control": {
     "read_only": false
    }
   },
   "source": [
    "Finally, the big reveal. We combine all of the methods described above, and train 5 independent probabilistic neural nets using the proper scoring rule and adversarial training. Then, we combine their predictions as an ensemble. Since each neural net now has two outputs (unlike in the original ensemble case), we need a more nuanced method of combining the resulting predictions. This method is to set\n",
    "$$ \\mu_{*}(\\mathbf{x}) = M^{-1}\\sum_m\\mu_{\\theta_m}(\\mathbf{x})$$\n",
    "$$\\sigma_{*}^2 = M^{-1}\\sum_m(\\sigma{\\theta_m}^2(\\mathbf{x}) + \\mu_{\\theta_m}(\\mathbf{x})) - \\mu_{*}^2(\\mathbf{x})$$\n",
    "\n",
    "where M is the number of neural nets in the ensemble. We can implement this method on the toy dataset and plot the results:\n",
    "\n",
    "\n",
    "\n"
   ]
  },
  {
   "cell_type": "code",
   "execution_count": 32,
   "metadata": {
    "button": false,
    "new_sheet": false,
    "run_control": {
     "read_only": false
    }
   },
   "outputs": [
    {
     "data": {
      "image/png": "[encoded data removed]",
      "text/plain": [
       "<Figure size 432x288 with 1 Axes>"
      ]
     },
     "metadata": {},
     "output_type": "display_data"
    }
   ],
   "source": [
    "# Net Setup\n",
    "\n",
    "class Net(nn.Module):\n",
    "    def __init__(self):\n",
    "        super(Net, self).__init__()\n",
    "        self.l1 = nn.Linear(1, 100)\n",
    "        self.l2 = nn.Linear(100, 2)\n",
    "\n",
    "    def forward(self, x):\n",
    "        x = F.relu(self.l1(x))\n",
    "        x = self.l2(x)\n",
    "        return x\n",
    "\n",
    "# Proper scoring rule using negative log likelihood scoring rule\n",
    "nll_criterion = lambda mu, sigma, y: torch.log(sigma)/2 + ((y-mu)**2)/(2*sigma)\n",
    "sp = torch.nn.Softplus()\n",
    "\n",
    "# Create 5 neural nets with identical implementations\n",
    "n = 5\n",
    "nets_ops = []\n",
    "for i in range(n):\n",
    "    net = Net()\n",
    "    optimizer = optim.Adam(net.parameters(), lr=0.1)\n",
    "    nets_ops.append((net, optimizer))\n",
    "\n",
    "# Train \n",
    "def train_model(net, optimizer):\n",
    "    eps = .01*8\n",
    "    alpha = .5\n",
    "    running_loss = []\n",
    "    for epoch in range(40):\n",
    "        epoch_loss = 0\n",
    "        for x, y in zip(inputs, labels):\n",
    "\n",
    "            x = torch.tensor([x], dtype = torch.float, requires_grad=True)\n",
    "            y = torch.tensor([y], dtype = torch.float)\n",
    "\n",
    "            # zero the parameter gradients\n",
    "            optimizer.zero_grad()\n",
    "\n",
    "            # forward + backward + optimize\n",
    "            output = net(x)\n",
    "            mu, sig = output[0], sp(output[1])+(10)**-6\n",
    "            loss = nll_criterion(mu, sig, y)\n",
    "            loss.backward(retain_graph=True)\n",
    "\n",
    "            x_a = x + eps*(torch.sign(x.grad.data))\n",
    "            optimizer.zero_grad()\n",
    "\n",
    "            output_a = net(x_a)\n",
    "            mu_a, sig_a = output_a[0], sp(output_a[1])+(10)**-6\n",
    "\n",
    "            loss = alpha*nll_criterion(mu, sig, y) + (1-alpha)*nll_criterion(mu_a, sig_a, y)\n",
    "            loss.backward()\n",
    "\n",
    "            optimizer.step()\n",
    "\n",
    "            epoch_loss += loss.item()\n",
    "\n",
    "        running_loss.append(epoch_loss/len(inputs))\n",
    "\n",
    "    xs = np.linspace(-6, 6, 100)\n",
    "    mu_outputs = [net(torch.tensor([x]))[0] for x in xs]\n",
    "    mu_outputs = np.hstack(torch.stack(mu_outputs).detach().numpy())\n",
    "    sig_outputs = [net(torch.tensor([x]))[1] for x in xs]\n",
    "    sig_outputs = np.hstack(torch.stack(sig_outputs).detach().numpy())\n",
    "    return(running_loss, mu_outputs, sig_outputs)\n",
    "\n",
    "# Generate predictions for each net\n",
    "mus = []\n",
    "sigs = []\n",
    "for net, op in nets_ops:\n",
    "    loss, mu, sig = train_model(net, op)\n",
    "    mus.append(mu)\n",
    "    sigs.append(sig)\n",
    "\n",
    "# Combine the outputs using the criteria explained above\n",
    "mus = np.vstack(mus)\n",
    "mu_stars = np.mean(mus, axis = 0)\n",
    "sigs = np.vstack(sigs)\n",
    "\n",
    "var_stars = np.mean(np.power(mus, 2) + sigs, axis = 0) - np.power(mu_stars, 2)\n",
    "sig_3 = np.sqrt(var_stars)*3\n",
    "plot_results(toy_dataset, mu_stars, sig_3)\n"
   ]
  },
  {
   "cell_type": "markdown",
   "metadata": {
    "button": false,
    "new_sheet": false,
    "run_control": {
     "read_only": false
    }
   },
   "source": [
    "\n",
    "\n",
    "\n",
    "The resulting confidence intervals here are remarkable. Within the scope of the training data, the confidence intervals are quite narrow and fit the data well. Outside the training data, the confidence intervals continue to fit the underlying line fairly well, and the intervals get very wide. This model is by far the best performing model among those trained on the toy data set, validating the results of the paper. \n",
    "\n"
   ]
  },
  {
   "cell_type": "markdown",
   "metadata": {
    "button": false,
    "new_sheet": false,
    "run_control": {
     "read_only": false
    }
   },
   "source": [
    "#### Comparison with Lakshminaryanan et al. (2017)\n"
   ]
  },
  {
   "cell_type": "markdown",
   "metadata": {
    "button": false,
    "new_sheet": false,
    "run_control": {
     "read_only": false
    }
   },
   "source": [
    "Our models perform equivalently to those of Lakshminaryanan et al. (2017).\n",
    "\n"
   ]
  },
  {
   "cell_type": "markdown",
   "metadata": {
    "button": false,
    "new_sheet": false,
    "run_control": {
     "read_only": false
    }
   },
   "source": [
    "![title](https://www.dropbox.com/s/6vcqdknaz1oapk1/Final%20Plots.png?dl=1)"
   ]
  },
  {
   "cell_type": "markdown",
   "metadata": {
    "button": false,
    "new_sheet": false,
    "run_control": {
     "read_only": false
    }
   },
   "source": [
    "Figure 1: Results on a toy regression task: x-axis denotes x. On the y-axis, the blue line is the ground truth curve, the red dots are observed noisy training data points and the gray/blue shadows correspond to the predicted mean along with three standard deviations. The top row are the results of Lakshminarayanan et al. (2017) and the bottom row are results from this tutorial. Left most plot corresponds to empirical variance of 5 networks trained using MSE, second plot shows the effect of training using NLL using a single net, third plot shows the additional effect of adversarial training, and final plot shows the effect of using an ensemble of 5 networks respectively."
   ]
  },
  {
   "cell_type": "markdown",
   "metadata": {
    "button": false,
    "new_sheet": false,
    "run_control": {
     "read_only": false
    }
   },
   "source": [
    "### Exploring Applications to Real World Data through the Boston Housing Dataset \n"
   ]
  },
  {
   "cell_type": "markdown",
   "metadata": {
    "button": false,
    "new_sheet": false,
    "run_control": {
     "read_only": false
    }
   },
   "source": [
    "#### Boston Housing Dataset\n"
   ]
  },
  {
   "cell_type": "markdown",
   "metadata": {
    "button": false,
    "new_sheet": false,
    "run_control": {
     "read_only": false
    }
   },
   "source": [
    "The Boston Housing Dataset, accessed easily through the scikit learn module, provides data from the US Census Service regarding housing in and around Boston, Massachusetts. \n",
    "\n",
    "The data has 506 observations, which is an order of magnitude larger than our Toy Dataset but not so large as to be computationally challenging. With 13 features that capture various aspects of homes and location (e.g., per capita crime rate), we aim to predict MEDV - Median value of owner-occupied homes in thousands. "
   ]
  },
  {
   "cell_type": "markdown",
   "metadata": {
    "button": false,
    "new_sheet": false,
    "run_control": {
     "read_only": false
    }
   },
   "source": [
    "#### Implementation"
   ]
  },
  {
   "cell_type": "markdown",
   "metadata": {
    "button": false,
    "new_sheet": false,
    "run_control": {
     "read_only": false
    }
   },
   "source": [
    "We follow the model architectures used in Lakshminarayanan et al. (2017) cited earlier very closely so that we are able to compare our results with those of the paper. \n",
    "\n",
    "In our model, we use the following architecture and specifications:\n",
    "1. A single layer with 100 hidden units and a ReLU activation function\n",
    "2. ADAM optimizer with learning rate of 0.1\n",
    "3. Train for 40 epochs\n",
    "4. 5 neural nets in the ensemble\n",
    "5. Adversarial training \n",
    "6. Each model is trained on a random subset of 90% of the data set and tested on 10%. This process is repeated 5 times.\n"
   ]
  },
  {
   "cell_type": "code",
   "execution_count": 37,
   "metadata": {
    "button": false,
    "collapsed": true,
    "new_sheet": false,
    "run_control": {
     "read_only": false
    }
   },
   "outputs": [],
   "source": [
    "from sklearn.datasets import load_boston\n",
    "import torch.utils.data\n",
    "boston = load_boston()\n",
    "\n",
    "\n",
    "features = torch.from_numpy(np.array(boston.data)).float()  # convert the numpy array into torch tensor\n",
    "labels = torch.from_numpy(np.array(boston.target)).float()\n",
    "\n",
    "# Create the net\n",
    "class Net(nn.Module):\n",
    "    def __init__(self):\n",
    "        super(Net, self).__init__()\n",
    "        self.l1 = nn.Linear(13, 50)\n",
    "        self.l2 = nn.Linear(50, 2)\n",
    "\n",
    "    def forward(self, x):\n",
    "        x = F.relu(self.l1(x))\n",
    "        x = self.l2(x)\n",
    "        return x\n",
    "\n",
    "net = Net()\n",
    "optimizer = optim.Adam(net.parameters(), lr=0.1)\n",
    "nll_criterion = lambda mu, sigma, y: torch.log(sigma)/2 + ((y-mu)**2)/(2*sigma)\n",
    "\n",
    "# Eval functions used to compute final loss\n",
    "nll_eval = lambda mu, sigma, y: np.log(sigma)/2 + ((y-mu)**2)/(2*sigma)\n",
    "mse_eval = lambda mu, y: np.sqrt(np.mean(np.power(mu-y,2)))\n",
    "sp = torch.nn.Softplus()\n",
    "\n",
    "# Normalize the data\n",
    "normed_features = (features - torch.mean(features, 0))/(torch.std(features,0))\n",
    "normed_features[:, 3] = features[:, 3] # Don't normalize binary value\n",
    "full_dataset = torch.cat((normed_features, labels.view(-1,1)), 1)\n",
    "\n",
    "\n",
    "train_size = int(0.9 * len(features))\n",
    "test_size = len(features) - train_size\n",
    "train_dataset, test_dataset = torch.utils.data.random_split(full_dataset, [train_size, test_size])\n",
    "\n",
    "def get_split():\n",
    "    train_dataset, test_dataset = torch.utils.data.random_split(full_dataset, [train_size, test_size])\n",
    "    return (train_dataset[:,], test_dataset[:,])\n",
    "    \n",
    "    \n",
    "eps = .01*8\n",
    "split_nlls = []\n",
    "split_mses = []\n",
    "\n",
    "for split in range(5):\n",
    "\n",
    "    train, test = get_split()\n",
    "    \n",
    "    # Test points that we'll use each net to evaluate\n",
    "    test_inputs = test[:, :13]\n",
    "    test_labels = test[:, 13]\n",
    "    mus_ensemble  = []\n",
    "    sigs_ensemble = []\n",
    "    \n",
    "    \n",
    "    for i in range(5):\n",
    "        net = Net()\n",
    "        optimizer = optim.Adam(net.parameters(), lr=0.1)\n",
    "        running_loss = []    \n",
    "        for epoch in range(40):\n",
    "            # Randomly shuffle train\n",
    "            train = train[torch.randperm(len(train)), :]\n",
    "            \n",
    "            inputs = train[:, :13]\n",
    "            labels = train[:, 13]\n",
    "            \n",
    "            epoch_loss = 0\n",
    "\n",
    "            for x, y in zip(inputs, labels):\n",
    "\n",
    "                x = torch.tensor(x, dtype = torch.float, requires_grad=True)\n",
    "                y = torch.tensor([y], dtype = torch.float)\n",
    "\n",
    "                # zero the parameter gradients\n",
    "                optimizer.zero_grad()\n",
    "\n",
    "                # forward + backward + optimize\n",
    "                output = net(x)\n",
    "                mu, sig = output[0], sp(output[1])+(10)**-6\n",
    "                loss = nll_criterion(mu, sig, y)                \n",
    "                loss.backward(retain_graph=True)\n",
    "\n",
    "                x_a = x + eps*(torch.sign(x.grad.data))\n",
    "                optimizer.zero_grad()\n",
    "\n",
    "                output_a = net(x_a)\n",
    "                mu_a, sig_a = output_a[0], sp(output_a[1])+(10)**-6\n",
    "\n",
    "                loss = nll_criterion(mu, sig, y) + nll_criterion(mu_a, sig_a, y)\n",
    "                loss.backward()\n",
    "                optimizer.step()\n",
    "                \n",
    "                epoch_loss += loss.item()\n",
    "                \n",
    "            running_loss.append(epoch_loss/len(inputs))\n",
    "\n",
    "      \n",
    "        mus, sigs = [], []\n",
    "        for x in test_inputs:\n",
    "            x = torch.tensor(x, dtype = torch.float, requires_grad=True)\n",
    "            output = net(x)\n",
    "            mu, sig = output[0], sp(output[1])+(10)**-6\n",
    "            mus.append(mu)\n",
    "            sigs.append(sig)\n",
    "        mus = np.hstack(torch.stack(mus).detach().numpy())\n",
    "        sigs = np.sqrt(np.hstack(torch.stack(sigs).detach().numpy()))\n",
    "        \n",
    "        # Storing the predictions from each neural net\n",
    "        mus_ensemble.append(mus)\n",
    "        sigs_ensemble.append(sigs)\n",
    "\n",
    "            \n",
    "    # Combine the predictions from each net into mu_star, sigma_star\n",
    "    mus_stack = np.vstack(mus_ensemble)\n",
    "    mu_stars = np.mean(mus_stack, axis = 0)\n",
    "    sigs_stack = np.vstack(sigs_ensemble)\n",
    "    sig_stars = np.mean(np.power(mus_stack, 2) + sigs_stack, axis = 0) - np.power(mu_stars, 2)\n",
    "    y = test_labels.numpy()\n",
    "\n",
    "    # Now have mu and variances as numpy arrays\n",
    "    # have to converrt back to tensor to plug them into the criterions\n",
    "    # Better to just have numpy mse and nll functions\n",
    "    nll_loss = nll_eval(mu_stars, sig_stars, y)\n",
    "    mse_loss = mse_eval(mu_stars, y)\n",
    "    \n",
    "    split_nlls.append(nll_loss)\n",
    "    split_mses.append(mse_loss)\n",
    "\n",
    "# Finally, take the average NLL and MSE acrross folds\n",
    "nll = np.mean(split_nlls)\n",
    "nll_std = np.std(split_nlls)\n",
    "mse = np.mean(split_mses)\n",
    "mse_std = np.std(split_mses)"
   ]
  },
  {
   "cell_type": "markdown",
   "metadata": {
    "button": false,
    "new_sheet": false,
    "run_control": {
     "read_only": false
    }
   },
   "source": [
    "### References\n",
    "\n",
    "1. Lakshminarayanan, Balaji, Alexander Pritzel, and Charles Blundell. \"Simple and scalable predictive uncertainty estimation using deep ensembles.\" Advances in Neural Information Processing Systems. 2017.\n",
    "2. Hernández-Lobato, José Miguel, and Ryan Adams. \"Probabilistic backpropagation for scalable learning of bayesian neural networks.\" International Conference on Machine Learning. 2015.\n",
    "3. Gal, Yarin, and Zoubin Ghahramani. \"Dropout as a Bayesian approximation: Representing model uncertainty in deep learning.\" international conference on machine learning. 2016."
   ]
  },
  {
   "cell_type": "code",
   "execution_count": null,
   "metadata": {
    "button": false,
    "collapsed": true,
    "new_sheet": false,
    "run_control": {
     "read_only": false
    }
   },
   "outputs": [],
   "source": []
  }
 ],
 "metadata": {
  "kernelspec": {
   "display_name": "Python 3 (ipykernel)",
   "language": "python",
   "name": "python3"
  },
  "language_info": {
   "codemirror_mode": {
    "name": "ipython",
    "version": 3
   },
   "file_extension": ".py",
   "mimetype": "text/x-python",
   "name": "python",
   "nbconvert_exporter": "python",
   "pygments_lexer": "ipython3",
   "version": "3.8.12"
  }
 },
 "nbformat": 4,
 "nbformat_minor": 2
}
