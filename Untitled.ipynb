{
 "cells": [
  {
   "cell_type": "markdown",
   "id": "23fba926",
   "metadata": {},
   "source": [
    "# An example on using Deep Ensembles for 1D Regression Problem\n",
    "## This notebook is based on the article \"Simple and Scaleable Predictive Uncertainty Estimation\" by B. Lakshminarayan (NeurIPS 2017).\n"
   ]
  },
  {
   "cell_type": "code",
   "execution_count": 2,
   "id": "5106dae4",
   "metadata": {},
   "outputs": [],
   "source": [
    "# import libraries\n",
    "import torch\n",
    "import torch.nn as nn\n",
    "import torch.nn.functional as F\n",
    "import torch.optim as optim\n",
    "import numpy as np\n",
    "import matplotlib\n",
    "import matplotlib.pyplot as plt\n",
    "%matplotlib inline"
   ]
  },
  {
   "cell_type": "markdown",
   "id": "5c741f7d",
   "metadata": {},
   "source": [
    "## Toy Example"
   ]
  },
  {
   "cell_type": "markdown",
   "id": "64406f51",
   "metadata": {},
   "source": [
    "Following Hernandez-Lobato and Adams (2015) and Lakshminarayanan et al. (2017), we will setup the problem of estimating predictive variance and evaluate the performance of the proposed method using a one-dimensional toy regression dataset. \n",
    "\n",
    "This dataset consists of 20 examples sampled from $Y = X^3 + \\epsilon$, where $X \\sim Unif(-4,4)$ and $\\epsilon \\sim N(0, 9)$. \n",
    "\n",
    "\n",
    "\n",
    "\n",
    "\n",
    "\n",
    "\n"
   ]
  },
  {
   "cell_type": "code",
   "execution_count": 5,
   "id": "68930376",
   "metadata": {},
   "outputs": [
    {
     "data": {
      "image/png": "[encoded data removed]",
      "text/plain": [
       "<Figure size 432x288 with 1 Axes>"
      ]
     },
     "metadata": {
      "needs_background": "light"
     },
     "output_type": "display_data"
    }
   ],
   "source": [
    "# setting the seed\n",
    "np.random.seed(42)\n",
    "\n",
    "# sample data\n",
    "def draw_examples(n):\n",
    "    x = np.random.uniform(-4,4, n)\n",
    "    eps = np.random.normal(0, 3, n)\n",
    "    y = np.power(x,3) + eps \n",
    "    return(x,y)\n",
    "\n",
    "# getting the x,y\n",
    "toy_dataset = draw_examples(20)\n",
    "inputs, labels = toy_dataset\n",
    "\n",
    "# Plot the data\n",
    "xs = np.linspace(-4,4,200)\n",
    "ys = np.power(xs,3)\n",
    "plt.plot(xs,ys)\n",
    "plt.scatter(toy_dataset[0],toy_dataset[1], color='r', label='Training Samples')\n",
    "plt.legend(loc='best')\n",
    "plt.ylabel(\"y\")\n",
    "plt.xlabel(\"x\")\n",
    "plt.title(\"Toy Dataset\")\n",
    "plt.show()"
   ]
  },
  {
   "cell_type": "markdown",
   "id": "dadb8ae4",
   "metadata": {},
   "source": [
    "We follow the model architecture used in the Deep Ensemble article, which is:\n",
    "1. A single layer with 100 hidden units and a ReLU activation function\n",
    "2. ADAM optimizer with learning rate of 0.1\n",
    "3. 40 epochs for training\n",
    "4. 5 independently trained neural nets using ensembles\n",
    "5. using adverserial training"
   ]
  },
  {
   "cell_type": "markdown",
   "id": "926cab55",
   "metadata": {},
   "source": [
    "## Deep Ensemble"
   ]
  },
  {
   "cell_type": "markdown",
   "id": "bedbb165",
   "metadata": {},
   "source": [
    "### Step1: Network Setup\n",
    "Creating the network involves three steps, these are:\n",
    "1. Initializing the network\n",
    "2. Defining the optimizer\n",
    "3. Loss function"
   ]
  },
  {
   "cell_type": "markdown",
   "id": "83d71ea3",
   "metadata": {},
   "source": [
    "### Step 2: Adverserial Training\n",
    "#### Key-points\n",
    "Next, we add *adversarial* training to our training process. Adversarial training involves:\n",
    "1. Modifying the training inputs slightly so as to be visually indistinguishable from the training examples but modified in such a way as to make the model worse at predicting their associated labels. \n",
    "2. Training using these adversarial examples makes the model more robust since it learns even more on points where it would perform badly. Additionally, adversarial training helps smooth the predictive distribution because it increases the likelihood of the model predicting the training value in an $\\epsilon$ region around the training point. \n",
    "3. Generating adversarial examples involves moving the inputs approximately in the direction of steepest ascent. \n",
    "\n",
    "#### Procedure\n",
    "\n",
    "In our particular case, we use the fast gradient sign method to create adversarial examples. This entails creating a new \n",
    "$$x’ = x + \\epsilon\\ \\text{sign}(\\nabla_x \\ell(\\theta, x,y))$$\n",
    "\n",
    "Where $\\epsilon = .01\\ range(x)$ and evaluating $range(x)$ as the range of the training data along each dimension. We then train the model on both $x$ and $x’$ as two separate data points."
   ]
  },
  {
   "cell_type": "markdown",
   "id": "c637bbd5",
   "metadata": {},
   "source": [
    "## Step 3: Ensembling\n",
    "\n",
    "We combine all of the methods described above, and train 5 independent probabilistic neural nets using NLL criterion and adversarial training. Then, we combine their predictions as an ensemble. Since each neural net now has two outputs, we need a more nuanced method of combining the resulting predictions. This method is to set\n",
    "$$ \\mu_{*}(\\mathbf{x}) = M^{-1}\\sum_m\\mu_{\\theta_m}(\\mathbf{x})$$\n",
    "$$\\sigma_{*}^2 = M^{-1}\\sum_m(\\sigma_{\\theta_m}^2(\\mathbf{x}) + \\mu_{\\theta_m}(\\mathbf{x})) - \\mu_{*}^2(\\mathbf{x})$$\n",
    "\n",
    "where M is the number of neural nets in the ensemble."
   ]
  },
  {
   "cell_type": "code",
   "execution_count": 7,
   "id": "ea754412",
   "metadata": {},
   "outputs": [],
   "source": [
    "# Network Setup\n",
    "\n",
    "class Net(nn.Module):\n",
    "    def __init__(self, L):\n",
    "        super(Net, self).__init__()\n",
    "        self.l1 = nn.Linear(1, L)\n",
    "        self.l2 = nn.Linear(L, 2)\n",
    "\n",
    "    def forward(self, x):\n",
    "        x = F.relu(self.l1(x))\n",
    "        x = self.l2(x)\n",
    "        return x\n",
    "\n",
    "# Negative log-likelihood scoring rule\n",
    "nll_criterion = lambda mu, sigma, y: torch.log(sigma)/2 + ((y-mu)**2)/(2*sigma)\n",
    "sp = torch.nn.Softplus()\n"
   ]
  },
  {
   "cell_type": "code",
   "execution_count": null,
   "id": "97854b2d",
   "metadata": {},
   "outputs": [],
   "source": [
    "# Create 5 neural nets with identical implementations\n",
    "n = 5\n",
    "nets_ops = []\n",
    "for i in range(n):\n",
    "    net = Net(100)\n",
    "    optimizer = optim.Adam(net.parameters(), lr=0.1)\n",
    "    nets_ops.append((net, optimizer))\n",
    "\n",
    "print(nets_ops)"
   ]
  },
  {
   "cell_type": "code",
   "execution_count": 35,
   "id": "f4930abb",
   "metadata": {},
   "outputs": [],
   "source": [
    "# Train function\n",
    "def train_model(net, optimizer):\n",
    "    eps = .01*8\n",
    "    alpha = .5\n",
    "    running_loss = []\n",
    "    for epoch in range(40):\n",
    "        epoch_loss = 0\n",
    "        for x, y in zip(inputs, labels):\n",
    "\n",
    "            x = torch.tensor([x], dtype = torch.float, requires_grad=True)\n",
    "            y = torch.tensor([y], dtype = torch.float)\n",
    "\n",
    "            # zero the parameter gradients\n",
    "            optimizer.zero_grad()\n",
    "\n",
    "            # forward + backward + optimize\n",
    "            output = net(x)\n",
    "            mu, sig = output[0], sp(output[1])+(10)**-6\n",
    "            loss = nll_criterion(mu, sig, y)\n",
    "            loss.backward(retain_graph=True)\n",
    "            \n",
    "            # adverserial training\n",
    "            x_a = x + eps*(torch.sign(x.grad.data))\n",
    "            optimizer.zero_grad()\n",
    "\n",
    "            output_a = net(x_a)\n",
    "            mu_a, sig_a = output_a[0], sp(output_a[1])+(10)**-6\n",
    "            \n",
    "            # compute total loss\n",
    "            loss = alpha*nll_criterion(mu, sig, y) + (1-alpha)*nll_criterion(mu_a, sig_a, y)\n",
    "            loss.backward()\n",
    "\n",
    "            optimizer.step()\n",
    "\n",
    "            epoch_loss += loss.item()\n",
    "\n",
    "        running_loss.append(epoch_loss/len(inputs))\n",
    "    \n",
    "    # predicted mean\n",
    "    xs   = np.linspace(-6, 6, 100)\n",
    "    mu_outputs = [net(torch.tensor([x],dtype = torch.float))[0] for x in xs]\n",
    "    mu_outputs = np.hstack(torch.stack(mu_outputs).detach().numpy())\n",
    "    \n",
    "    # predicted variance\n",
    "    sig_outputs = [net(torch.tensor([x],dtype = torch.float))[1] for x in xs]\n",
    "    sig_outputs = np.hstack(torch.stack(sig_outputs).detach().numpy())\n",
    "    return(running_loss, mu_outputs, sig_outputs)"
   ]
  },
  {
   "cell_type": "code",
   "execution_count": 36,
   "id": "37c0ee74",
   "metadata": {},
   "outputs": [],
   "source": [
    "# Generate predictions for each net\n",
    "mus  = []\n",
    "sigs = []\n",
    "\n",
    "for net, op in nets_ops:\n",
    "    loss, mu, sig = train_model(net, op)\n",
    "    mus.append(mu)\n",
    "    sigs.append(sig)\n",
    "\n",
    "# Combine the outputs using the ensemble criteria\n",
    "mus = np.vstack(mus)\n",
    "mu_stars = np.mean(mus, axis = 0)\n",
    "sigs = np.vstack(sigs)\n",
    "\n",
    "var_stars = np.mean(np.power(mus, 2) + sigs, axis = 0) - np.power(mu_stars, 2)\n",
    "sig_3 = np.sqrt(var_stars)*3\n",
    "\n"
   ]
  },
  {
   "cell_type": "code",
   "execution_count": 37,
   "id": "7a35883d",
   "metadata": {},
   "outputs": [],
   "source": [
    "# Plot functions\n",
    "\n",
    "def plot_point_results(toy, outputs):\n",
    "    xs = np.linspace(-6,6,200)\n",
    "    ys = np.power(xs,3)\n",
    "    plt.plot(xs, outputs, color='g', label=\"Predictions\")\n",
    "    plt.scatter(toy[0],toy[1], color='r', label='Training Samples')\n",
    "    plt.legend(loc='best')\n",
    "    plt.xlabel(\"x\")\n",
    "    plt.ylabel(\"y\")\n",
    "    plt.title(\"Ground Truth and Point Estimates\")\n",
    "    plt.plot(xs,ys)\n",
    "    plt.show()\n",
    "\n",
    "def plot_results(toy, outputs, output_variances):\n",
    "    xs = np.linspace(-6,6,100)\n",
    "    ys = np.power(xs,3)\n",
    "    plt.scatter(toy[0],toy[1], color='r', label='Training Samples')\n",
    "    plt.fill_between(xs, outputs+output_variances, outputs-output_variances, alpha=.5, label=\"3 $\\sigma$ uncertainty envelope\")\n",
    "    plt.legend(loc='best')\n",
    "    plt.xlabel(\"x\")\n",
    "    plt.ylabel(\"y\")\n",
    "    plt.title(\"Ground Truth and Uncertainty Estimates\")\n",
    "    plt.plot(xs,ys)\n",
    "    plt.show()\n",
    "\n",
    "def plot_loss(loss):\n",
    "    plt.plot(np.arange(len(loss)), loss)\n",
    "    plt.show()"
   ]
  },
  {
   "cell_type": "code",
   "execution_count": 38,
   "id": "8af16950",
   "metadata": {},
   "outputs": [
    {
     "data": {
      "image/png": "[encoded data removed]",
      "text/plain": [
       "<Figure size 432x288 with 1 Axes>"
      ]
     },
     "metadata": {
      "needs_background": "light"
     },
     "output_type": "display_data"
    }
   ],
   "source": [
    "# Plot results\n",
    "\n",
    "plot_results(toy_dataset, mu_stars, sig_3)"
   ]
  },
  {
   "cell_type": "code",
   "execution_count": null,
   "id": "2f259d6c",
   "metadata": {},
   "outputs": [],
   "source": []
  }
 ],
 "metadata": {
  "kernelspec": {
   "display_name": "Python 3 (ipykernel)",
   "language": "python",
   "name": "python3"
  },
  "language_info": {
   "codemirror_mode": {
    "name": "ipython",
    "version": 3
   },
   "file_extension": ".py",
   "mimetype": "text/x-python",
   "name": "python",
   "nbconvert_exporter": "python",
   "pygments_lexer": "ipython3",
   "version": "3.8.12"
  }
 },
 "nbformat": 4,
 "nbformat_minor": 5
}
